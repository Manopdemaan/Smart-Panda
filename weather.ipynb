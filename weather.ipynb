{
 "cells": [
  {
   "cell_type": "markdown",
   "id": "ff847d93",
   "metadata": {},
   "source": [
    "# Het weerbericht\n",
    "in deze jupyter notebook zie je de weerbericht."
   ]
  },
  {
   "cell_type": "code",
   "execution_count": 38,
   "id": "21f99c9d",
   "metadata": {
    "scrolled": true
   },
   "outputs": [],
   "source": [
    "import pandas as pd\n",
    "pd.read_csv(\"weather_netherlands.csv\")"
   ]
  },
  {
   "cell_type": "markdown",
   "id": "47453982",
   "metadata": {},
   "source": [
    "vervolgens wordt het csv bestand ingeladen met pandas."
   ]
  },
  {
   "cell_type": "markdown",
   "id": "e06315e4",
   "metadata": {},
   "source": [
    "Het datafram wordt hieronder weergegeven."
   ]
  },
  {
   "cell_type": "markdown",
   "id": "1977743d",
   "metadata": {},
   "source": [
    "De fucntie **data** laat de eerste paar rijen van onze DataFrame zien. De default geef 5 rijen."
   ]
  },
  {
   "cell_type": "code",
   "execution_count": 42,
   "id": "054987bf",
   "metadata": {},
   "outputs": [
    {
     "data": {
      "text/html": [
       "<div>\n",
       "<style scoped>\n",
       "    .dataframe tbody tr th:only-of-type {\n",
       "        vertical-align: middle;\n",
       "    }\n",
       "\n",
       "    .dataframe tbody tr th {\n",
       "        vertical-align: top;\n",
       "    }\n",
       "\n",
       "    .dataframe thead th {\n",
       "        text-align: right;\n",
       "    }\n",
       "</style>\n",
       "<table border=\"1\" class=\"dataframe\">\n",
       "  <thead>\n",
       "    <tr style=\"text-align: right;\">\n",
       "      <th></th>\n",
       "      <th>dt</th>\n",
       "      <th>AverageTemperature</th>\n",
       "      <th>AverageTemperatureUncertainty</th>\n",
       "      <th>City</th>\n",
       "      <th>Country</th>\n",
       "      <th>Latitude</th>\n",
       "      <th>Longitude</th>\n",
       "    </tr>\n",
       "  </thead>\n",
       "  <tbody>\n",
       "    <tr>\n",
       "      <th>0</th>\n",
       "      <td>1960-01-01</td>\n",
       "      <td>2.425</td>\n",
       "      <td>0.215</td>\n",
       "      <td>Almere</td>\n",
       "      <td>Netherlands</td>\n",
       "      <td>52.24N</td>\n",
       "      <td>5.26E</td>\n",
       "    </tr>\n",
       "    <tr>\n",
       "      <th>1</th>\n",
       "      <td>1960-02-01</td>\n",
       "      <td>3.083</td>\n",
       "      <td>0.245</td>\n",
       "      <td>Almere</td>\n",
       "      <td>Netherlands</td>\n",
       "      <td>52.24N</td>\n",
       "      <td>5.26E</td>\n",
       "    </tr>\n",
       "    <tr>\n",
       "      <th>2</th>\n",
       "      <td>1960-03-01</td>\n",
       "      <td>5.858</td>\n",
       "      <td>0.347</td>\n",
       "      <td>Almere</td>\n",
       "      <td>Netherlands</td>\n",
       "      <td>52.24N</td>\n",
       "      <td>5.26E</td>\n",
       "    </tr>\n",
       "    <tr>\n",
       "      <th>3</th>\n",
       "      <td>1960-04-01</td>\n",
       "      <td>8.870</td>\n",
       "      <td>0.226</td>\n",
       "      <td>Almere</td>\n",
       "      <td>Netherlands</td>\n",
       "      <td>52.24N</td>\n",
       "      <td>5.26E</td>\n",
       "    </tr>\n",
       "    <tr>\n",
       "      <th>4</th>\n",
       "      <td>1960-05-01</td>\n",
       "      <td>13.088</td>\n",
       "      <td>0.454</td>\n",
       "      <td>Almere</td>\n",
       "      <td>Netherlands</td>\n",
       "      <td>52.24N</td>\n",
       "      <td>5.26E</td>\n",
       "    </tr>\n",
       "  </tbody>\n",
       "</table>\n",
       "</div>"
      ],
      "text/plain": [
       "           dt  AverageTemperature  AverageTemperatureUncertainty    City  \\\n",
       "0  1960-01-01               2.425                          0.215  Almere   \n",
       "1  1960-02-01               3.083                          0.245  Almere   \n",
       "2  1960-03-01               5.858                          0.347  Almere   \n",
       "3  1960-04-01               8.870                          0.226  Almere   \n",
       "4  1960-05-01              13.088                          0.454  Almere   \n",
       "\n",
       "       Country Latitude Longitude  \n",
       "0  Netherlands   52.24N     5.26E  \n",
       "1  Netherlands   52.24N     5.26E  \n",
       "2  Netherlands   52.24N     5.26E  \n",
       "3  Netherlands   52.24N     5.26E  \n",
       "4  Netherlands   52.24N     5.26E  "
      ]
     },
     "execution_count": 42,
     "metadata": {},
     "output_type": "execute_result"
    }
   ],
   "source": [
    "data = pd.read_csv(\"weather_netherlands.csv\")\n",
    "df = data\n",
    "df.head(5)"
   ]
  },
  {
   "cell_type": "markdown",
   "id": "280d7aaa",
   "metadata": {},
   "source": [
    "De fucntie **tail** laat de laatste paar rijen van onze DataFrame zien. De default geef 5 rijen."
   ]
  },
  {
   "cell_type": "code",
   "execution_count": 43,
   "id": "566526ce",
   "metadata": {},
   "outputs": [
    {
     "data": {
      "text/html": [
       "<div>\n",
       "<style scoped>\n",
       "    .dataframe tbody tr th:only-of-type {\n",
       "        vertical-align: middle;\n",
       "    }\n",
       "\n",
       "    .dataframe tbody tr th {\n",
       "        vertical-align: top;\n",
       "    }\n",
       "\n",
       "    .dataframe thead th {\n",
       "        text-align: right;\n",
       "    }\n",
       "</style>\n",
       "<table border=\"1\" class=\"dataframe\">\n",
       "  <thead>\n",
       "    <tr style=\"text-align: right;\">\n",
       "      <th></th>\n",
       "      <th>dt</th>\n",
       "      <th>AverageTemperature</th>\n",
       "      <th>AverageTemperatureUncertainty</th>\n",
       "      <th>City</th>\n",
       "      <th>Country</th>\n",
       "      <th>Latitude</th>\n",
       "      <th>Longitude</th>\n",
       "    </tr>\n",
       "  </thead>\n",
       "  <tbody>\n",
       "    <tr>\n",
       "      <th>15475</th>\n",
       "      <td>2013-05-01</td>\n",
       "      <td>11.464</td>\n",
       "      <td>0.236</td>\n",
       "      <td>Zwolle</td>\n",
       "      <td>Netherlands</td>\n",
       "      <td>52.24N</td>\n",
       "      <td>5.26E</td>\n",
       "    </tr>\n",
       "    <tr>\n",
       "      <th>15476</th>\n",
       "      <td>2013-06-01</td>\n",
       "      <td>15.043</td>\n",
       "      <td>0.261</td>\n",
       "      <td>Zwolle</td>\n",
       "      <td>Netherlands</td>\n",
       "      <td>52.24N</td>\n",
       "      <td>5.26E</td>\n",
       "    </tr>\n",
       "    <tr>\n",
       "      <th>15477</th>\n",
       "      <td>2013-07-01</td>\n",
       "      <td>18.775</td>\n",
       "      <td>0.193</td>\n",
       "      <td>Zwolle</td>\n",
       "      <td>Netherlands</td>\n",
       "      <td>52.24N</td>\n",
       "      <td>5.26E</td>\n",
       "    </tr>\n",
       "    <tr>\n",
       "      <th>15478</th>\n",
       "      <td>2013-08-01</td>\n",
       "      <td>18.025</td>\n",
       "      <td>0.298</td>\n",
       "      <td>Zwolle</td>\n",
       "      <td>Netherlands</td>\n",
       "      <td>52.24N</td>\n",
       "      <td>5.26E</td>\n",
       "    </tr>\n",
       "    <tr>\n",
       "      <th>15479</th>\n",
       "      <td>2013-09-01</td>\n",
       "      <td>NaN</td>\n",
       "      <td>NaN</td>\n",
       "      <td>Zwolle</td>\n",
       "      <td>Netherlands</td>\n",
       "      <td>52.24N</td>\n",
       "      <td>5.26E</td>\n",
       "    </tr>\n",
       "  </tbody>\n",
       "</table>\n",
       "</div>"
      ],
      "text/plain": [
       "               dt  AverageTemperature  AverageTemperatureUncertainty    City  \\\n",
       "15475  2013-05-01              11.464                          0.236  Zwolle   \n",
       "15476  2013-06-01              15.043                          0.261  Zwolle   \n",
       "15477  2013-07-01              18.775                          0.193  Zwolle   \n",
       "15478  2013-08-01              18.025                          0.298  Zwolle   \n",
       "15479  2013-09-01                 NaN                            NaN  Zwolle   \n",
       "\n",
       "           Country Latitude Longitude  \n",
       "15475  Netherlands   52.24N     5.26E  \n",
       "15476  Netherlands   52.24N     5.26E  \n",
       "15477  Netherlands   52.24N     5.26E  \n",
       "15478  Netherlands   52.24N     5.26E  \n",
       "15479  Netherlands   52.24N     5.26E  "
      ]
     },
     "execution_count": 43,
     "metadata": {},
     "output_type": "execute_result"
    }
   ],
   "source": [
    "data = pd.read_csv(\"weather_netherlands.csv\")\n",
    "df = data\n",
    "df.tail(5)"
   ]
  },
  {
   "cell_type": "markdown",
   "id": "c92c82f8",
   "metadata": {},
   "source": [
    "De functie **describe** laat enkele gegevens ove ronze data zien."
   ]
  },
  {
   "cell_type": "code",
   "execution_count": 31,
   "id": "a843fcab",
   "metadata": {},
   "outputs": [
    {
     "data": {
      "text/html": [
       "<div>\n",
       "<style scoped>\n",
       "    .dataframe tbody tr th:only-of-type {\n",
       "        vertical-align: middle;\n",
       "    }\n",
       "\n",
       "    .dataframe tbody tr th {\n",
       "        vertical-align: top;\n",
       "    }\n",
       "\n",
       "    .dataframe thead th {\n",
       "        text-align: right;\n",
       "    }\n",
       "</style>\n",
       "<table border=\"1\" class=\"dataframe\">\n",
       "  <thead>\n",
       "    <tr style=\"text-align: right;\">\n",
       "      <th></th>\n",
       "      <th>AverageTemperature</th>\n",
       "      <th>AverageTemperatureUncertainty</th>\n",
       "    </tr>\n",
       "  </thead>\n",
       "  <tbody>\n",
       "    <tr>\n",
       "      <th>count</th>\n",
       "      <td>15456.000000</td>\n",
       "      <td>15456.000000</td>\n",
       "    </tr>\n",
       "    <tr>\n",
       "      <th>mean</th>\n",
       "      <td>9.661264</td>\n",
       "      <td>0.238243</td>\n",
       "    </tr>\n",
       "    <tr>\n",
       "      <th>std</th>\n",
       "      <td>5.766642</td>\n",
       "      <td>0.076062</td>\n",
       "    </tr>\n",
       "    <tr>\n",
       "      <th>min</th>\n",
       "      <td>-6.584000</td>\n",
       "      <td>0.070000</td>\n",
       "    </tr>\n",
       "    <tr>\n",
       "      <th>25%</th>\n",
       "      <td>4.847000</td>\n",
       "      <td>0.185000</td>\n",
       "    </tr>\n",
       "    <tr>\n",
       "      <th>50%</th>\n",
       "      <td>9.352000</td>\n",
       "      <td>0.230000</td>\n",
       "    </tr>\n",
       "    <tr>\n",
       "      <th>75%</th>\n",
       "      <td>15.018750</td>\n",
       "      <td>0.277000</td>\n",
       "    </tr>\n",
       "    <tr>\n",
       "      <th>max</th>\n",
       "      <td>22.812000</td>\n",
       "      <td>0.758000</td>\n",
       "    </tr>\n",
       "  </tbody>\n",
       "</table>\n",
       "</div>"
      ],
      "text/plain": [
       "       AverageTemperature  AverageTemperatureUncertainty\n",
       "count        15456.000000                   15456.000000\n",
       "mean             9.661264                       0.238243\n",
       "std              5.766642                       0.076062\n",
       "min             -6.584000                       0.070000\n",
       "25%              4.847000                       0.185000\n",
       "50%              9.352000                       0.230000\n",
       "75%             15.018750                       0.277000\n",
       "max             22.812000                       0.758000"
      ]
     },
     "execution_count": 31,
     "metadata": {},
     "output_type": "execute_result"
    }
   ],
   "source": [
    "data = pd.read_csv(\"weather_netherlands.csv\")\n",
    "df = data\n",
    "df.describe()"
   ]
  },
  {
   "cell_type": "markdown",
   "id": "b671ae5c",
   "metadata": {},
   "source": [
    "de fucntie **info** toont gegevens over het data type data"
   ]
  },
  {
   "cell_type": "code",
   "execution_count": 32,
   "id": "0769108b",
   "metadata": {},
   "outputs": [
    {
     "name": "stdout",
     "output_type": "stream",
     "text": [
      "<class 'pandas.core.frame.DataFrame'>\n",
      "RangeIndex: 15480 entries, 0 to 15479\n",
      "Data columns (total 7 columns):\n",
      " #   Column                         Non-Null Count  Dtype  \n",
      "---  ------                         --------------  -----  \n",
      " 0   dt                             15480 non-null  object \n",
      " 1   AverageTemperature             15456 non-null  float64\n",
      " 2   AverageTemperatureUncertainty  15456 non-null  float64\n",
      " 3   City                           15480 non-null  object \n",
      " 4   Country                        15480 non-null  object \n",
      " 5   Latitude                       15480 non-null  object \n",
      " 6   Longitude                      15480 non-null  object \n",
      "dtypes: float64(2), object(5)\n",
      "memory usage: 846.7+ KB\n"
     ]
    }
   ],
   "source": [
    "data = pd.read_csv(\"weather_netherlands.csv\")\n",
    "df = data\n",
    "df.info()"
   ]
  },
  {
   "cell_type": "code",
   "execution_count": null,
   "id": "ddfaf056",
   "metadata": {},
   "outputs": [],
   "source": []
  }
 ],
 "metadata": {
  "kernelspec": {
   "display_name": "Python 3 (ipykernel)",
   "language": "python",
   "name": "python3"
  },
  "language_info": {
   "codemirror_mode": {
    "name": "ipython",
    "version": 3
   },
   "file_extension": ".py",
   "mimetype": "text/x-python",
   "name": "python",
   "nbconvert_exporter": "python",
   "pygments_lexer": "ipython3",
   "version": "3.11.0"
  }
 },
 "nbformat": 4,
 "nbformat_minor": 5
}
